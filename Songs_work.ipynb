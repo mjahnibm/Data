{
    "nbformat_minor": 1, 
    "cells": [
        {
            "execution_count": null, 
            "cell_type": "code", 
            "metadata": {}, 
            "outputs": [], 
            "source": "class Fib(): \n    def __init__(self): self.a,self.b=0,1\n\n    def __iter__(self): return self;\n    \n    def __next__(self):\n        self.a,self.b = self.b, self.a+self.b\n        if self.a > 100 : \n            raise StopIteration();\n        return self.a\n\ntest = Fib()\nwhile True: print(test.__next__())"
        }, 
        {
            "execution_count": null, 
            "cell_type": "code", 
            "metadata": {}, 
            "outputs": [], 
            "source": "import types\nclass Fib1(): \n    def __init__(self): self.a,self.b=0,1\n\n    def __iter__(self): return 0;\n    \n    def __next__(self):\n        self.a,self.b = self.b, self.a+self.b\n        if self.a > 100 : \n            raise StopIteration();\n        return self.a\n\ntest = Fib1()\n\nprint('### TEST  Class Type :  ', type(test))\nprint('## hsattr : ',hasattr(test, \"__iter__\") )\nif not hasattr(test, \"__iter__\"): test.__iter__ = types.MethodType( __iter__, test )\nprint('### TEST Iternation Define ? : ', test.__iter__)\n    \nwhile True: print(test.__next__())  \n    "
        }, 
        {
            "execution_count": null, 
            "cell_type": "code", 
            "metadata": {}, 
            "outputs": [], 
            "source": "import types\ndef __iter__(self):return 0;\nclass Fib2(): \n    def __init__(self): self.a,self.b=0,1\n\n#    def __iter__(self): return 0;    \n    def __next__(self):\n        self.a,self.b = self.b, self.a+self.b\n        if self.a > 100 : \n            raise StopIteration();\n        return self.a\n\ntest = Fib2()\n\nprint('### TEST  Class Type :  ', type(test))\n\nprint('## hsattr : ',hasattr(test, \"__iter__\") )\nif not hasattr(test, \"__iter__\"): test.__iter__ = types.MethodType( __iter__, test )\nprint('### TEST Iternation Define ? : ', test.__iter__)\n    \nwhile True: print(test.__next__())        "
        }, 
        {
            "execution_count": null, 
            "cell_type": "code", 
            "metadata": {}, 
            "outputs": [], 
            "source": "import types\ndef __iter__(self):return self;\nclass Fib3(): \n    def __init__(self): self.a,self.b=0,1\n\n#    def __iter__(self): return 0;    \n    def __next__(self):\n        self.a,self.b = self.b, self.a+self.b\n        if self.a > 100 : \n            raise StopIteration();\n        return self.a\n\ntest = Fib3()\n\nprint('### TEST  Class Type :  ', type(test))\n\nprint('## hsattr : ',hasattr(test, \"__iter__\") )\nif not hasattr(test, \"__iter__\"): test.__iter__ = types.MethodType( __iter__, test )\nprint('### TEST Iternation Define ? : ', test.__iter__)\n    \nwhile True: print(test.__next__())        "
        }, 
        {
            "source": "\uc0ac\uc6a9\uc790\uac00 \uc815\uc758\ud55c \ud074\ub798\uc2a4\uac00 \uc774\ud130\ub808\uc774\ud130\ub97c \uc9c0\uc6d0\ud558\ub824\uba74 __iter__() \uba54\uc3d8\ub4dc\ub97c \uc815\uc758\ud558\uba74 \ub429\ub2c8\ub2e4. iter() \ub294 \uac1d\uccb4\uc758 __iter__() \uba54\uc3d8\ub4dc\uac00 \ub3cc\ub824\uc8fc\ub294 \uac12\uc744 \uc774\ud130\ub808\uc774\ud130\ub85c \uc0ac\uc6a9\ud569\ub2c8\ub2e4. next() \uc5d0 \uc774\ud130\ub808\uc774\ud130\ub97c \uc804\ub2ec\ud558\uba74 \uc774\ud130\ub808\uc774\ud130\uc758 __next__() \uba54\uc3d8\ub4dc\ub97c \ud638\ucd9c\ud569\ub2c8\ub2e4. \ub54c\ubb38\uc5d0 \ucd5c\uc18c\ud55c\uc758 \uc774\ud130\ub808\uc774\ud130\ub294 \uc774\ub807\uac8c \uad6c\uc131\ud560 \uc218 \uc788\uc2b5\ub2c8\ub2e4.", 
            "cell_type": "markdown", 
            "metadata": {}
        }, 
        {
            "execution_count": 1, 
            "cell_type": "code", 
            "metadata": {}, 
            "outputs": [
                {
                    "output_type": "stream", 
                    "name": "stdout", 
                    "text": "0\n1\n2\n"
                }
            ], 
            "source": "class Range:\n    def __init__(self, n):\n        self.n = n\n        self.c = 0\n    def __iter__(self):\n        return self # \uc774\ud130\ub808\uc774\ud130\uc778 \uacbd\uc6b0\ub294 \uc790\uc2e0\uc744 \ub3cc\ub824\uc8fc\uba74 \ub429\ub2c8\ub2e4.\n    def __next__(self):\n        if self.c < self.n:\n            v = self.c\n            self.c += 1\n            return v\n        else:\n            raise StopIteration\n\nfor x in Range(3):\n     print(x)\n"
        }, 
        {
            "execution_count": 2, 
            "cell_type": "code", 
            "metadata": {}, 
            "outputs": [
                {
                    "ename": "TypeError", 
                    "evalue": "iter() returned non-iterator of type 'int'", 
                    "traceback": [
                        "\u001b[0;31m---------------------------------------------------------------------------\u001b[0m", 
                        "\u001b[0;31mTypeError\u001b[0m                                 Traceback (most recent call last)", 
                        "\u001b[0;32m<ipython-input-2-7cae85c2fbc5>\u001b[0m in \u001b[0;36m<module>\u001b[0;34m()\u001b[0m\n\u001b[1;32m     13\u001b[0m             \u001b[0;32mraise\u001b[0m \u001b[0mStopIteration\u001b[0m\u001b[0;34m\u001b[0m\u001b[0m\n\u001b[1;32m     14\u001b[0m \u001b[0;34m\u001b[0m\u001b[0m\n\u001b[0;32m---> 15\u001b[0;31m \u001b[0;32mfor\u001b[0m \u001b[0my\u001b[0m \u001b[0;32min\u001b[0m \u001b[0mRange1\u001b[0m\u001b[0;34m(\u001b[0m\u001b[0;36m3\u001b[0m\u001b[0;34m)\u001b[0m\u001b[0;34m:\u001b[0m\u001b[0;34m\u001b[0m\u001b[0m\n\u001b[0m\u001b[1;32m     16\u001b[0m     \u001b[0mprint\u001b[0m\u001b[0;34m(\u001b[0m\u001b[0my\u001b[0m\u001b[0;34m)\u001b[0m\u001b[0;34m\u001b[0m\u001b[0m\n", 
                        "\u001b[0;31mTypeError\u001b[0m: iter() returned non-iterator of type 'int'"
                    ], 
                    "output_type": "error"
                }
            ], 
            "source": "class Range1:\n    def __init__(self, n):\n        self.n = n\n        self.c = 0\n    def __iter__(self):\n        return 0 # \uc774\ud130\ub808\uc774\ud130\uc778 \uacbd\uc6b0\ub294 \uc790\uc2e0\uc744 \ub3cc\ub824\uc8fc\uba74 \ub429\ub2c8\ub2e4.\n    def __next__(self):\n        if self.c < self.n:\n            v = self.c\n            self.c += 1\n            return v\n        else:\n            raise StopIteration\n\nfor y in Range1(3):\n    print(y)"
        }, 
        {
            "execution_count": 3, 
            "cell_type": "code", 
            "metadata": {}, 
            "outputs": [
                {
                    "output_type": "stream", 
                    "name": "stdout", 
                    "text": "### TEST  Class Type :   <class '__main__.Range2'>\n## hsattr :  False\n### TEST Iternation Define ? :  <bound method __iter__ of <__main__.Range2 object at 0x2ad3d4ad8b00>>\n0\n1\n2\n"
                }, 
                {
                    "ename": "StopIteration", 
                    "evalue": "", 
                    "traceback": [
                        "\u001b[0;31m---------------------------------------------------------------------------\u001b[0m", 
                        "\u001b[0;31mStopIteration\u001b[0m                             Traceback (most recent call last)", 
                        "\u001b[0;32m<ipython-input-3-bd5c50617271>\u001b[0m in \u001b[0;36m<module>\u001b[0;34m()\u001b[0m\n\u001b[1;32m     21\u001b[0m \u001b[0mprint\u001b[0m\u001b[0;34m(\u001b[0m\u001b[0;34m'### TEST Iternation Define ? : '\u001b[0m\u001b[0;34m,\u001b[0m \u001b[0mt\u001b[0m\u001b[0;34m.\u001b[0m\u001b[0m__iter__\u001b[0m\u001b[0;34m)\u001b[0m\u001b[0;34m\u001b[0m\u001b[0m\n\u001b[1;32m     22\u001b[0m \u001b[0;34m\u001b[0m\u001b[0m\n\u001b[0;32m---> 23\u001b[0;31m \u001b[0;32mwhile\u001b[0m \u001b[0;32mTrue\u001b[0m\u001b[0;34m:\u001b[0m \u001b[0mprint\u001b[0m\u001b[0;34m(\u001b[0m\u001b[0mt\u001b[0m\u001b[0;34m.\u001b[0m\u001b[0m__next__\u001b[0m\u001b[0;34m(\u001b[0m\u001b[0;34m)\u001b[0m\u001b[0;34m)\u001b[0m\u001b[0;34m\u001b[0m\u001b[0m\n\u001b[0m", 
                        "\u001b[0;32m<ipython-input-3-bd5c50617271>\u001b[0m in \u001b[0;36m__next__\u001b[0;34m(self)\u001b[0m\n\u001b[1;32m     12\u001b[0m             \u001b[0;32mreturn\u001b[0m \u001b[0mv\u001b[0m\u001b[0;34m\u001b[0m\u001b[0m\n\u001b[1;32m     13\u001b[0m         \u001b[0;32melse\u001b[0m\u001b[0;34m:\u001b[0m\u001b[0;34m\u001b[0m\u001b[0m\n\u001b[0;32m---> 14\u001b[0;31m             \u001b[0;32mraise\u001b[0m \u001b[0mStopIteration\u001b[0m\u001b[0;34m\u001b[0m\u001b[0m\n\u001b[0m\u001b[1;32m     15\u001b[0m \u001b[0;34m\u001b[0m\u001b[0m\n\u001b[1;32m     16\u001b[0m \u001b[0mt\u001b[0m \u001b[0;34m=\u001b[0m \u001b[0mRange2\u001b[0m\u001b[0;34m(\u001b[0m\u001b[0;36m3\u001b[0m\u001b[0;34m)\u001b[0m\u001b[0;34m\u001b[0m\u001b[0m\n", 
                        "\u001b[0;31mStopIteration\u001b[0m: "
                    ], 
                    "output_type": "error"
                }
            ], 
            "source": "import types\ndef __iter__(self): return 0\nclass Range2:\n    def __init__(self, n):\n        self.n = n\n        self.c = 0\n#    def __iter__(self):    return 0 # \uc774\ud130\ub808\uc774\ud130\uc778 \uacbd\uc6b0\ub294 \uc790\uc2e0\uc744 \ub3cc\ub824\uc8fc\uba74 \ub429\ub2c8\ub2e4.\n    def __next__(self):\n        if self.c < self.n:\n            v = self.c\n            self.c += 1\n            return v\n        else:\n            raise StopIteration\n            \nt = Range2(3)\n\nprint('### TEST  Class Type :  ', type(t))\nprint('## hsattr : ',hasattr(t, \"__iter__\") )\nif not hasattr(t, \"__iter__\"): t.__iter__ = types.MethodType( __iter__, t )\nprint('### TEST Iternation Define ? : ', t.__iter__)\n    \nwhile True: print(t.__next__())        "
        }, 
        {
            "execution_count": 5, 
            "cell_type": "code", 
            "metadata": {}, 
            "outputs": [
                {
                    "output_type": "stream", 
                    "name": "stdout", 
                    "text": "### TEST  Class Type :   <class '__main__.Range3'>\n## hsattr :  True\n### TEST Iternation Define ? :  <bound method Range3.__iter__ of <__main__.Range3 object at 0x2ad3d4ae4390>>\n0\n1\n2\n"
                }, 
                {
                    "ename": "StopIteration", 
                    "evalue": "", 
                    "traceback": [
                        "\u001b[0;31m---------------------------------------------------------------------------\u001b[0m", 
                        "\u001b[0;31mStopIteration\u001b[0m                             Traceback (most recent call last)", 
                        "\u001b[0;32m<ipython-input-5-217a107c4fa7>\u001b[0m in \u001b[0;36m<module>\u001b[0;34m()\u001b[0m\n\u001b[1;32m     21\u001b[0m \u001b[0;34m\u001b[0m\u001b[0m\n\u001b[1;32m     22\u001b[0m \u001b[0;34m\u001b[0m\u001b[0m\n\u001b[0;32m---> 23\u001b[0;31m \u001b[0;32mwhile\u001b[0m \u001b[0;32mTrue\u001b[0m\u001b[0;34m:\u001b[0m \u001b[0mprint\u001b[0m\u001b[0;34m(\u001b[0m\u001b[0mt\u001b[0m\u001b[0;34m.\u001b[0m\u001b[0m__next__\u001b[0m\u001b[0;34m(\u001b[0m\u001b[0;34m)\u001b[0m\u001b[0;34m)\u001b[0m\u001b[0;34m\u001b[0m\u001b[0m\n\u001b[0m", 
                        "\u001b[0;32m<ipython-input-5-217a107c4fa7>\u001b[0m in \u001b[0;36m__next__\u001b[0;34m(self)\u001b[0m\n\u001b[1;32m     11\u001b[0m             \u001b[0;32mreturn\u001b[0m \u001b[0mv\u001b[0m\u001b[0;34m\u001b[0m\u001b[0m\n\u001b[1;32m     12\u001b[0m         \u001b[0;32melse\u001b[0m\u001b[0;34m:\u001b[0m\u001b[0;34m\u001b[0m\u001b[0m\n\u001b[0;32m---> 13\u001b[0;31m             \u001b[0;32mraise\u001b[0m \u001b[0mStopIteration\u001b[0m\u001b[0;34m\u001b[0m\u001b[0m\n\u001b[0m\u001b[1;32m     14\u001b[0m \u001b[0;34m\u001b[0m\u001b[0m\n\u001b[1;32m     15\u001b[0m \u001b[0mt\u001b[0m \u001b[0;34m=\u001b[0m \u001b[0mRange3\u001b[0m\u001b[0;34m(\u001b[0m\u001b[0;36m3\u001b[0m\u001b[0;34m)\u001b[0m\u001b[0;34m\u001b[0m\u001b[0m\n", 
                        "\u001b[0;31mStopIteration\u001b[0m: "
                    ], 
                    "output_type": "error"
                }
            ], 
            "source": "class Range3:\n    def __init__(self, n):\n        self.n = n\n        self.c = 0\n    def __iter__(self):\n        return 0 \n    def __next__(self):\n        if self.c < self.n:\n            v = self.c\n            self.c += 1\n            return v\n        else:\n            raise StopIteration\n            \nt = Range3(3)\n\nprint('### TEST  Class Type :  ', type(t))\nprint('## hsattr : ',hasattr(t, \"__iter__\") )\nif not hasattr(t, \"__iter__\"): t.__iter__ = types.MethodType( __iter__, t )\nprint('### TEST Iternation Define ? : ', t.__iter__)\n    \n    \nwhile True: print(t.__next__())       "
        }, 
        {
            "execution_count": null, 
            "cell_type": "code", 
            "metadata": {
                "scrolled": true
            }, 
            "outputs": [], 
            "source": "# The code was removed by DSX for sharing."
        }
    ], 
    "metadata": {
        "kernelspec": {
            "display_name": "Python 3.5", 
            "name": "python3", 
            "language": "python"
        }, 
        "language_info": {
            "mimetype": "text/x-python", 
            "nbconvert_exporter": "python", 
            "version": "3.5.4", 
            "name": "python", 
            "file_extension": ".py", 
            "pygments_lexer": "ipython3", 
            "codemirror_mode": {
                "version": 3, 
                "name": "ipython"
            }
        }
    }, 
    "nbformat": 4
}